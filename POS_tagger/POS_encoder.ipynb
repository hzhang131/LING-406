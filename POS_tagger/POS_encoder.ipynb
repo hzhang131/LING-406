{
 "cells": [
  {
   "cell_type": "code",
   "execution_count": 1,
   "metadata": {},
   "outputs": [],
   "source": [
    "# Import statements\n",
    "import string\n",
    "import numpy as np\n",
    "import pandas as pd\n",
    "import scipy\n",
    "from sklearn.dummy import DummyClassifier\n",
    "from sklearn.model_selection import KFold\n",
    "from sklearn.naive_bayes import GaussianNB\n",
    "from sklearn.tree import DecisionTreeClassifier\n",
    "from sklearn.datasets import fetch_20newsgroups\n",
    "from sklearn.feature_extraction.text import TfidfVectorizer\n",
    "from sklearn.preprocessing import OneHotEncoder, LabelEncoder\n",
    "from sklearn.metrics import f1_score, precision_score, recall_score, accuracy_score"
   ]
  },
  {
   "cell_type": "code",
   "execution_count": 2,
   "metadata": {},
   "outputs": [
    {
     "name": "stdout",
     "output_type": "stream",
     "text": [
      "['The' 'cafeteria' 'remains' ... 'frenzy' 'PERIOD' 'I']\n"
     ]
    },
    {
     "name": "stderr",
     "output_type": "stream",
     "text": [
      "/Users/zhanghongshuo/anaconda3/lib/python3.6/site-packages/sklearn/preprocessing/_label.py:251: DataConversionWarning: A column-vector y was passed when a 1d array was expected. Please change the shape of y to (n_samples, ), for example using ravel().\n",
      "  y = column_or_1d(y, warn=True)\n"
     ]
    }
   ],
   "source": [
    "df = pd.read_csv('pos-eng-5000.data.csv')\n",
    "v = LabelEncoder()\n",
    "center = np.array(df['a4'])\n",
    "print(center)\n",
    "class_code = v.fit_transform(df[['class']])\n",
    "class_inverted = v.inverse_transform((class_code))\n",
    "class_map = {}\n",
    "\n",
    "for i in range(len(class_code)):\n",
    "    if class_inverted[i] not in class_map:\n",
    "        class_map[class_inverted[i]] = [class_code[i], 1]\n",
    "    else:\n",
    "        class_map[class_inverted[i]][1] += 1\n",
    "lpo = float('inf')\n",
    "lpo_class = \"\"\n",
    "for key in class_map:\n",
    "    if class_map.get(key)[1] < lpo:\n",
    "        lpo = class_map.get(key)[1]\n",
    "        lpo_class = class_map.get(key)[0]\n",
    "        "
   ]
  },
  {
   "cell_type": "code",
   "execution_count": 3,
   "metadata": {},
   "outputs": [
    {
     "name": "stdout",
     "output_type": "stream",
     "text": [
      "{'The': 8, 'cafeteria': 16, 'remains': 37, 'closed': 12, 'PERIOD': 21, 'Some': 8, 'analysts': 19, 'argued': 33, 'that': 11, 'there': 9, 'wo': 15, 'nSQt': 25, 'be': 32, 'a': 8, 'flurry': 16, 'of': 11, 'takeovers': 19, 'because': 11, 'the': 8, 'industry': 16, 'SQs': 22, 'continuing': 12, 'capacity-expansion': 12, 'program': 16, 'is': 37, 'eating': 34, 'up': 28, 'available': 12, 'cash': 16, 'A': 8, 'number': 16, 'developments': 19, 'were': 33, 'negatively': 25, 'interpreted': 35, 'by': 11, 'traders': 19, 'place': 16, 'smelt': 35, 'some': 8, 'kind': 16, 'hair': 16, 'lotion': 16, 'these': 8, 'pimplike': 12, 'characters': 19, 'use': 36, 'MrPERIOD': 17, 'OSQBrien': 17, 'will': 15, 'elaborate': 32, 'on': 11, 'SIA': 17, 'position': 16, 'in': 11, 'testimony': 16, 'before': 11, 'House': 17, 'Telecommunications': 18, 'and': 2, 'Finance': 17, 'Subcommittee': 17, 'this': 8, 'week': 16, 'COMMA': 5, 'spokesman': 16, 'said': 33, 'ailing': 34, 'company': 16, 'which': 38, 'has': 37, 'reported': 35, 'net': 12, 'losses': 19, 'for': 11, '16': 3, 'consecutive': 12, 'quarters': 19, 'it': 23, 'manufacture': 32, 'network': 16, 'computer': 16, 'systems': 19, 'any': 25, 'more': 13, 'greatly': 25, 'reduce': 32, 'its': 24, 'costly': 12, 'direct': 12, 'sales': 19, 'force': 16, 'Among': 11, 'paper': 16, 'stocks': 19, 'rallied': 33, 'Big': 17, 'Board': 17, 'offer': 16, 'Union': 17, 'Camp': 17, 'STR': 29, '2PERIOD75': 3, 'to': 30, '37PERIOD75': 3, 'Federal': 17, 'Paperboard': 17, '1PERIOD75': 3, '27PERIOD875': 3, 'Mead': 16, '2PERIOD375': 3, '38PERIOD75': 3, 'Temple': 17, 'Inland': 17, 'IncPERIOD': 17, '3PERIOD75': 3, '62PERIOD25': 3, 'Daikin': 17, 'executive': 16, 'charge': 16, 'exports': 19, 'when': 41, 'high-purity': 16, 'halogenated': 33, 'hydrocarbon': 16, 'was': 33, 'sold': 35, 'Soviets': 18, '1986': 3, 'received': 33, 'suspended': 35, '10-month': 12, 'jail': 16, 'sentence': 16, 'But': 2, 'while': 11, 'merits': 19, 'diversification': 16, 'shine': 36, 'through': 25, 'times': 19, 'are': 36, 'tough': 12, 'also': 25, 'price': 16, 'pay': 32, 'COLON': 4, 'diversified': 12, 'portfolio': 16, 'always': 25, 'underperforms': 37, 'an': 8, 'undiversified': 12, 'during': 11, 'those': 8, 'investment': 16, 'truly': 25, 'hot': 12, 'Now': 25, 'nothin': 16, 'left': 35, 'me': 23, 'easy': 12, 'That': 8, 'evening': 16, 'turned': 33, 'out': 28, 'hell': 16, 'like': 11, 'all': 20, 'others': 19, 'tsunami-warning': 12, 'system': 16, 'developed': 35, 'since': 11, '1946': 3, 'disaster': 16, 'Hawaii': 17, 'relies': 37, 'mainly': 25, 'simple': 12, 'ingenious': 12, 'instrument': 16, 'devised': 35, 'Commander': 17, 'CPERIODKPERIOD': 17, 'Green': 17, 'Coast': 17, 'Geodetic': 17, 'Survey': 17, 'staff': 16, 'Without': 11, 'detailing': 34, 'specific': 12, 'product': 16, 'breakdowns': 19, 'Nintendo': 17, 'credited': 33, 'bullish': 12, 'upsurge': 16, '--': 4, 'including': 34, 'advanced': 35, 'games': 19, 'television': 16, 'entertainment': 16, 'surging': 12, 'DBQ': 6, 'leisure-oriented': 12, 'DQ': 7, 'foreign': 12, 'markets': 19, 'At': 11, 'prearranged': 35, 'time': 16, 'Greg': 17, 'started': 33, 'engine': 16, 'taxied': 33, 'We': 23, 'have': 36, 'sufficient': 12, 'flow': 16, 'handle': 32, 'he': 23, 'Here': 25, 'trends': 19, 'world': 16, 'major': 12, 'stock': 16, 'as': 11, 'calculated': 35, 'Morgan': 17, 'Stanley': 17, 'Capital': 17, 'International': 17, 'Perspective': 17, 'Geneva': 17, 'My': 24, 'cousin': 16, 'works': 19, 'at': 11, 'Labor': 17, 'Bureau': 17, 'expedition': 16, 'under': 11, 'orders': 19, 'make': 32, 'swift': 12, 'survey': 16, 'conditions': 19, 'then': 25, 'return': 32, 'Earth': 17, 'Richard': 17, 'Newsom': 17, 'California': 17, 'state': 16, 'official': 16, 'who': 39, 'last': 12, 'year': 16, 'examined': 33, 'Lincoln': 17, 'parent': 16, 'American': 17, 'Continental': 17, 'CorpPERIOD': 17, 'saw': 33, 'evidence': 16, 'crimes': 19, 'had': 33, 'been': 35, 'committed': 35, 'Because': 11, 'Tokyo': 17, 'did': 33, 'collapse': 32, 'let': 32, 'pick': 32, 'little': 12, 'Smith': 17, 'plan': 16, 'help': 32, 'existing': 34, 'joint': 16, 'manufacturing': 16, 'agreement': 16, 'with': 11, 'AT&T': 17, 'Wally': 17, 'ca': 15, 'go': 32, 'hour': 16, 'Well': 31, 'I': 23, 'SQll': 15, 'get': 32, 'she': 23, 'looked': 33, 'uncertain': 12, 'It': 23, 'happened': 33, 'StPERIOD': 17, 'Patrick': 17, 'Day': 16, 'party': 16, 'big': 12, 'affair': 16, 'regiment': 16, 'gone': 35, 'into': 11, 'battle': 16, 'over': 11, 'three-quarters': 19, 'century': 16, 'strains': 19, 'Irish': 12, 'march': 16, 'MrsPERIOD': 17, 'Ward': 17, 'says': 37, 'often': 25, 'defended': 33, 'her': 23, 'colleagues': 19, 'called': 33, 'grandstander': 16, 'If': 11, 'woman': 16, 'delayed': 35, 'until': 11, 'after': 11, '11COLON20': 3, 'start': 32, 'shopping': 16, 'would': 15, 'prepare': 32, 'substantial': 12, 'meal': 16, 'eaten': 35, 'dinner': 16, 'days': 19, 'ideal': 12, 'storage': 16, 'temperature': 16, 'long': 12, 'periods': 19, 'about': 11, 'fifty-five': 3, 'degrees': 19, 'allowable': 12, 'range': 16, 'five': 3, 'above': 11, 'or': 2, 'below': 11, 'provided': 35, 'no': 25, 'sudden': 12, 'frequent': 12, 'changes': 19, 'went': 33, 'back': 25, 'agency': 16, 'car': 16, 'got': 33, 'electric': 12, 'bug': 16, 'one': 3, 'newest': 14, 'devices': 19, 'electronic': 12, 'shadowing': 16, 'Market': 16, 'participants': 19, 'hope': 36, 'today': 16, 'GNP': 17, 'report': 16, 'UPERIODSPERIOD': 17, 'economic': 12, 'growth': 16, 'although': 11, 'quick': 12, 'point': 32, 'figures': 19, 'may': 15, 'overstate': 32, 'economy': 16, 'vigor': 16, 'Analysts': 19, 'projecting': 34, 'earnings': 19, 'between': 11, '25': 3, 'cents': 19, '30': 3, 'share': 16, 'Separately': 25, 'Department': 17, 'average': 12, 'weekly': 12, 'rose': 33, '0PERIOD3': 3, 'PERCENT': 16, 'September': 17, 'adjusting': 34, 'inflation': 16, 'following': 34, '0PERIOD7': 3, 'decline': 16, 'August': 17, 'Conservatives': 19, 'now': 25, 'hold': 36, 'only': 25, '5-4': 12, 'edge': 16, 'Just': 25, 'say': 32, 'distribution': 16, 'wrong': 12, 'does': 37, 'mean': 32, 'anything': 16, 'Ministry': 17, 'Trade': 17, 'Industry': 17, 'lot': 16, 'donors': 19, 'just': 25, 'taken': 35, 'Another': 8, 'issue': 16, 'came': 33, 'market': 16, 'yesterday': 16, 'could': 15, 'dealers': 19, 'answer': 32, 'their': 24, 'phones': 19, 'Robert': 17, 'King': 17, 'senior': 12, 'vice': 16, 'president': 16, 'OTC': 17, 'trading': 16, 'Robinson-Humphrey': 17, 'CoPERIOD': 17, 'Atlanta': 17, 'Mayhap': 25, 'metaphorical': 12, 'connection': 16, 'made': 33, 'BPC': 17, 'Fine': 17, 'Arts': 18, 'Committee': 17, 'think': 32, 'literal': 12, 'green': 12, 'thumb': 16, 'She': 23, 'understood': 33, 'sex': 16, 'anyway': 25, 'played': 33, 'well': 25, 'This': 8, 'New': 17, 'York': 17, 'City': 17, 'hoping': 34, 'SQd': 15, 'hear': 32, 'from': 11, 'you': 23, 'Watson': 17, 'Yeargin': 17, 'never': 25, 'complained': 33, 'school': 16, 'officials': 19, 'standardized': 12, 'test': 16, 'unfair': 12, 'Then': 25, 'Mr': 17, 'Will': 17, 'bidding': 16, 'war': 16, 'two': 3, 'very': 25, 'rich': 12, 'determined': 35, 'international': 12, 'companies': 19, 'they': 23, 'believed': 33, 'Trump': 17, 'whose': 40, 'towering': 12, 'ego': 16, 'viewed': 35, 'reason': 16, 'believe': 32, 'might': 15, 'come': 32, 'lower': 13, 'bid': 16, 'done': 35, 'serious': 12, 'picture': 16, 'almost': 25, 'He': 23, 'felt': 33, 'irritability': 16, 'not': 25, 'concern': 32, 'him': 23, 'yet': 2, 'knew': 33, 'care': 32, 'even': 25, 'if': 11, 'In': 11, 'Madrid': 17, 'hotel': 16, 'room': 16, 'recently': 25, 'viewer': 16, 'caught': 33, 'end': 16, 'badly': 25, 'acted': 35, 'series': 16, 'fishing': 16, 'boat': 16, 'Australia': 17, 'Great': 17, 'Barrier': 17, 'Reef': 17, 'urged': 35, 'British': 12, 'announcer': 16, 'stay': 32, 'tuned': 35, 'further': 12, 'adventures': 19, 'Skippy': 17, 'Kangaroo': 17, 'robe': 16, 'however': 25, 'missing': 34, 'Barco': 17, 'disposed': 35, 'pawnshop': 16, 'Glendale': 16, 'thought': 33, 'perhaps': 25, 'partners': 19, 'SQve': 36, 'directives': 19, 'Central': 16, 'Each': 8, 'human': 12, 'being': 16, 'known': 35, 'given': 35, 'name': 16, 'value': 16, 'Six-year-old': 12, 'Pace': 17, 'based': 35, 'Aurora': 17, 'ColoPERIOD': 17, 'operates': 37, '41': 3, 'warehouse-club': 16, 'stores': 19, 'Remember': 32, 'though': 25, 'beta': 16, 'important': 12, 'limitations': 19, 'do': 36, 'know': 32, 'quality': 16, 'my': 24, 'sent': 35, 'but': 2, 'case': 16, 'feel': 36, 'confident': 12, 'good': 12, 'sense': 16, 'honest': 12, 'judgment': 16, 'PERIODPERIODPERIOD': 4, 'Nevertheless': 25, 'true': 12, 'enough': 12, 'products': 19, 'sell': 32, 'Blum': 17, 'added': 33, 'surprised': 35, 'Koenig': 17, 'resigned': 33, 'his': 24, 'departure': 16, 'nothing': 16, 'we': 23, 'desired': 33, 'worked': 33, 'surprising': 12, '78': 3, 'people': 19, 'exercise': 36, 'regularly': 25, '73': 3, '1981': 3, 'sighed': 33, 'leaned': 33, 'moment': 16, 'against': 11, 'trunk': 16, 'largest': 14, 'patent': 16, 'award': 16, 'ever': 25, '12': 3, 'billion': 3, 'Polaroid': 17, 'seeks': 37, 'They': 23, 'move': 36, 'accordance': 16, 'what': 39, 'natures': 19, 'Dan': 17, 'EPERIOD': 17, 'Nelms': 17, 'Valley': 17, 'chief': 12, 'officer': 16, 'one-time': 12, 'substantially': 25, 'eliminates': 37, 'future': 12, 'associated': 35, 'unit': 16, 'financing': 16, 'advertising': 16, 'production': 16, 'new': 12, 'models': 19, 'founding': 16, 'nationwide': 12, 'chain': 16, 'dealerships': 19, 'simply': 25, 'too': 25, 'difficult': 12, 'salesman': 16, 'jeopardizes': 37, 'credibility': 16, 'trouble': 16, 'problem': 16, 'run': 16, 'George': 17, 'Palmatier': 17, 'Minden': 17, 'NevPERIOD': 17, 'consultant': 16, 'author': 16, 'Marketing': 16, 'Edge': 16, 'Office': 17, 'Thrift': 17, 'Supervision': 17, 'banned': 33, 'BPERIODJPERIOD': 17, 'Garman': 17, 'former': 12, 'director': 16, 'failed': 35, 'Vision': 17, 'Banc': 17, 'Savings': 18, 'Association': 17, 'Kingsville': 17, 'Texas': 17, 'working': 34, 'financial': 12, 'institution': 16, 'insured': 35, 'government': 16, 'federal': 12, 'attempting': 34, 'estimate': 32, 'how': 41, 'much': 12, 'earthquake': 16, 'cost': 32, 'wilfully': 25, 'planning': 34, 'destruction': 16, 'relief': 16, 'finally': 25, 'There': 9, 'ranch': 16, 'three': 3, 'miles': 19, 'north': 12, 'here': 25, 'Since': 11, 'local': 12, 'benefit-seeking': 16, 'matters': 37, 'national': 12, 'policy': 16, 'making': 16, 'less': 26, 'chamber': 16, 'Congress': 17, 'precisely': 25, 'pattern': 16, 'expect': 32, 'Republicans': 19, 'willing': 12, 'engage': 32, 'than': 11, 'Democratic': 12, 'counterparts': 19, 'vacation': 16, 'seemed': 35, 'idea': 16, 'doctor': 16, 'prescribed': 35, 'Mason': 17, 'many': 12, 'Jewish': 12, 'voters': 19, 'guilty': 12, 'toward': 11, 'blacks': 19, 'so': 11, 'support': 36, 'black': 12, 'candidates': 19, 'uncritically': 25, 'ministers': 19, 'reshape': 32, 'NATO': 17, 'defenses': 19, 'Western': 17, 'Europe': 17, 'amid': 11, 'fast-paced': 12, 'Soviet': 12, 'bloc': 16, 'Anne': 17, 'smiled': 33, 'Serial': 12, 'bonds': 19, 'priced': 35, 'yield': 32, '6PERIOD75': 3, '2000': 3, 'formula': 16, 'assumes': 37, '8': 3, 'before-tax': 12, 'mutual': 12, 'fund': 16, '16COMMA500': 3, 'taxes': 19, 'years': 19, 'Though': 11, 'intentionally': 25, 'Cowboys': 18, 'SQ': 22, 'Jones': 17, 'represent': 32, 'breed': 16, 'owner': 16, 'visited': 33, 'shipyards': 19, 'Brest': 17, 'Pierre': 17, 'sign': 32, 'register': 16, 'vouching': 34, 'integrity': 16, 'visiting': 34, 'foreigner': 16, 'reaches': 37, '14': 3, 'million': 3, 'homes': 19, 'contract': 16, 'renewed': 35, 'Near': 11, 'coast': 16, 'dense': 12, 'coverts': 19, 'live': 12, 'oak': 16, 'interspersed': 35, 'marshes': 19, 'prairies': 19, 'Hanging': 34, 'bar': 16, 'oil': 16, 'painting': 16, 'nude': 12, 'Al': 17, 'accepted': 35, 'student': 16, 'Corcoran': 17, 'Gallery': 17, 'needed': 33, 'eat': 32, 'drink': 32, 'broke': 12, 'After': 11, 'talking': 34, 'selling': 34, 'Japan': 17, 'seriously': 25, 'pouring': 34, 'outlook': 16, 'corporate': 12, 'fairly': 25, 'bleak': 12, 'Far': 25, 'belfry': 16, 'huge': 12, 'bronze': 16, 'bells': 19, 'mounted': 35, 'wheels': 19, 'swing': 36, 'madly': 25, 'full': 12, '360': 3, 'starting': 34, 'ending': 34, 'surprisingly': 25, 'inverted': 12, 'mouth-up': 12, 'due': 12, 'expire': 32, 'Friday': 17, 'nine': 3, 'auto': 16, 'makers': 19, 'build': 32, '147COMMA121': 3, 'vehicles': 19, 'down': 25, '9PERIOD6': 3, '162COMMA767': 3, 'ago': 25, '2PERIOD5': 3, 'higher': 13, '143COMMA534': 3, 'MessrsPERIOD': 19, 'Fleischmann': 17, 'Pons': 17, 'experiments': 19, 'produced': 33, 'large': 12, 'amounts': 19, 'heat': 16, 'Frank': 17, 'WPERIOD': 17, 'Terrizzi': 17, 'Nothing': 16, 'annals': 16, 'tuition': 16, 'readied': 33, 'parents': 19, '1980s': 19, 'misguided': 12, 'prevent': 32, 'trade': 16, 'deficit': 16, 'Thus': 25, 'Sauternes': 18, 'Barsacs': 18, 'should': 15, 'cold': 12, 'SEMICOLON': 4, 'Pouilly-Fuisse': 17, 'Chablis': 18, 'somewhat': 25, 'Foreign': 12, 'surged': 33, 'dollar': 16, 'weakened': 33, 'most': 14, 'currencies': 19, 'With': 11, 'Hudson': 17, 'looking': 34, 'protege': 16, 'Greene': 17, 'picked': 33, 'fight': 16, 'ship': 16, 'surgeon': 16, 'Edward': 17, 'Wilson': 17, 'second': 12, 'War': 17, 'Ax': 17, 'hands': 19, 'play': 16, 'money': 16, 'sat': 35, 'competition': 16, 'few': 12, 'goods': 19, 'can': 15, 'heating': 34, 'And': 2, 'tragic': 12, 'deserved': 35, 'JPERIOD': 17, 'APERIOD': 17, 'Frans': 17, 'Belgian': 12, 'United': 17, 'Nations': 17, 'Educational': 17, 'Scientific': 17, 'Cultural': 17, 'Organization': 17, 'learned': 35, 'lesson': 16, 'You': 23, 'watch': 32, 'yourself': 23, 'What': 39, 'SQre': 36, 'really': 25, 'asking': 34, 'Are': 36, 'profit': 16, 'loss': 16, 'margins': 19, 'anticipated': 35, 'events': 19, 'acceptable': 12, 'management': 16, '?': 21, 'By': 11, 'comparison': 16, 'Fritzie': 17, 'Laura': 17, 'Andrus': 17, 'quivering': 34, 'fledglings': 19, 'Brooks': 17, 'Brothers': 18, 'lost': 35, 'customers': 19, 'variety': 16, 'such': 12, 'Paul': 17, 'Stuart': 17, 'Barneys': 17, 'Louis': 17, 'Boston': 17, 'Nobody': 17, 'tell': 32, 'closely': 25, 'villages': 19, 'package': 16, 'countries': 19, 'temporarily': 25, 'raise': 32, 'tariffs': 19, 'certain': 12, 'experience': 36, 'unusually': 25, 'heavy': 12, 'volume': 16, 'imports': 19, 'Probably': 25, 'original': 12, 'Island': 16, 'Indians': 18, 'For': 11, 'first': 12, '32': 3, 'ferry': 16, 'service': 16, 'restored': 35, 'East': 17, 'Bay': 17, 'San': 17, 'Francisco': 17, 'Uncle': 17, 'John': 17, 'Vinnicum': 17, 'Morse': 17, 'immediate': 12, 'popular': 12, 'suspect': 16, 'same': 12, 'second-tier': 12, 'firms': 19, 'continue': 32, 'lose': 32, 'ground': 16, 'IBM': 17, 'push': 16, 'unusual': 12, 'approach': 16, 'marketing': 16, 'going': 34, 'remember': 32, 'keep': 32, 'eye': 16, 'razor': 16, 'matter': 16, 'Roberts': 17, 'feint': 32, 'kick': 16, 'groin': 16, 'deadly': 12, 'hand': 16, 'exclusive': 12, 'Bouygues': 17, 'SPERIODAPERIOD': 17, 'construction': 16, 'Paris': 17, 'consolidated': 12, '1989': 3, 'half': 16, 'payments': 19, 'minority': 16, 'interests': 19, '188': 3, 'French': 12, 'francs': 19, '(': 0, '30PERIOD2': 3, ')': 1, '65': 3, 'earlier': 26, 'Paper': 17, 'overly': 25, 'discounted': 35, 'looks': 37, 'tempting': 12, 'recommending': 34, 'shares': 19, 'Disabled': 12, 'Americans': 18, 'civil': 12, 'rights': 19, 'guaranteed': 35, 'federally': 25, 'funded': 35, 'programs': 19, 'Section': 16, '504': 3, 'passed': 35, 'part': 16, '1973': 3, 'Rehabilitation': 17, 'Act': 17, 'Many': 12, 'investors': 19, 'certainly': 25, 'imminent': 12, 'Ahead': 25, 'Gavin': 17, 'slightly': 25, 'off': 11, 'trail': 16, 'pointed': 33, 'Gap': 17, 'mile': 16, 'away': 25, 'When': 41, 'seized': 35, 'example': 16, '15': 3, 'loans': 19, '250': 3, 'borrowers': 19, 'buying': 34, 'real': 12, 'estate': 16, '50': 3, 'other': 12, 'subsidiaries': 19, 'according': 34, 'Seidman': 17, 'Myrtle': 17, 'Beach': 17, 'SPERIODCPERIOD': 17, 'damaged': 35, 'Yachtsman': 17, 'Resort': 17, 'offers': 37, 'daily': 12, 'rates': 19, 'low': 12, '35': 3, '22': 3, 'regular': 12, 'prices': 19, 'CBS': 17, 'executives': 19, 'slated': 35, 'undergo': 32, 'plot': 16, 'impressed': 33, 'realized': 33, 'limited': 35, 'sphere': 16, 'influence': 16, 'Yet': 25, 'everywhere': 25, 'else': 25, 'sameness': 16, 'stucco': 16, 'wood': 16, 'square': 16, 'blocks': 19, 'fortresses': 19, 'perched': 35, 'slant': 16, 'hill': 16, 'rising': 34, 'top': 16, 'where': 41, 'church': 16, 'beyond': 11, 'cemetery': 16, 'contacting': 34, 'Lissa': 17, 'comfort': 32, 'comforted': 35, 'trying': 34, 'encourage': 32, 'everyone': 16, 'Simon': 17, 'Smithson': 17, 'analyst': 16, 'Kleinwort': 17, 'Benson': 17, 'Inc': 17, 'different': 12, 'Swedes': 17, 'Their': 24, 'Chieftains': 17, 'Svenskarna': 10, 'och': 10, 'deras': 10, 'Hovdingar': 10, 'history': 16, 'intended': 35, 'general': 12, 'reader': 16, 'particularly': 25, 'suited': 35, 'high': 16, 'students': 19, 'Undeterred': 12, 'DPERIODTPERIOD': 17, 'handlers': 19, 'vowed': 33, 'press': 32, 'camera': 16, 'maker': 16, 'income': 16, 'doubled': 33, '5PERIOD85': 3, 'yen': 19, '16PERIOD08': 3, '2PERIOD63': 3, '7PERIOD24': 3, 'stock-picking': 16, 'game': 16, 'shaping': 34, 'months': 19, 'ahead': 25, 'managers': 19, 'brokers': 19, 'Warehouse': 16, 'productivity': 16, 'beginning': 34, 'take': 32, '17PERIOD2': 3, 'total': 16, 'bill': 16, 'include': 32, 'estimated': 12, '1PERIOD2': 3, 'supplemental': 12, 'anti-drug': 12, 'funds': 19, 'approved': 35, 'House-Senate': 17, 'conference': 16, 'rush': 16, 'already': 25, 'provoking': 12, 'jealousy': 16, 'among': 11, 'states': 19, 'competing': 34, 'assistance': 16, 'sweeping': 12, 'environmental': 12, 'regulatory': 12, 'efforts': 19, 'date': 16, 'involving': 34, 'annual': 12, '135': 3, 'alone': 25, 'signatories': 19, 'agreed': 33, 'curtail': 32, 'sharply': 25, 'chlorofluorocarbons': 19, 'CFCs': 17, 'alert': 12, 'tiger': 16, 'Penny': 17, 'marvelled': 33, 'Eden': 17, 'traversing': 34, 'morning': 16, 'found': 33, 'rooms': 19, 'directly': 25, 'across': 11, 'Excelsior': 17, 'equally': 25, 'luxurious': 12, 'Hotel': 17, 'Ambassador': 17, 'FBI': 17, 'role': 16, 'complement': 32, 'DPERIODCPERIOD': 17, 'initiative': 16, 'trafficking': 16, 'investigations': 19, 'providing': 34, 'services': 19, 'various': 12, 'task': 16, 'forces': 19, 'our': 24, 'contacts': 19, 'police': 16, 'squads': 19, 'handling': 34, 'drug-related': 12, 'Minneapolis': 17, 'glass': 16, 'aluminum': 16, 'window': 16, 'earned': 33, '4': 3, 'revenue': 16, '114': 3, 'lie': 16, 'effort': 16, 'create': 32, 'nation': 16, 'employee-owned': 12, 'began': 33, 'unraveling': 34, 'OctPERIOD': 17, '13': 3, 'labor-management': 12, 'group': 16, 'unable': 12, 'obtain': 32, '300-a-share': 12, '6PERIOD79': 3, 'FRANKFURT': 17, 'Once': 25, 'held': 35, 'without': 11, 'charged': 35, 'On': 11, 'bureau': 16, 'lay': 33, 'small': 12, 'brass': 12, 'ornament': 16, 'design': 16, 'faded': 35, 'engraving': 16, 'object': 16, 'Pamela': 17, 'property': 16, 'great-grandfather': 16, 'Major': 17, 'Hiram': 17, 'Munroe': 17, 'Culver': 17, 'addition': 16, 'reserves': 19, 'comes': 37, 'provision': 16, '199PERIOD7': 3, 'announced': 35, 'June': 17, 'every': 8, 'see': 32, 'consentual': 12, 'Amoco': 17, 'third-quarter': 12, 'results': 19, 'stake': 16, 'Paxus': 16, '20': 3, 'Lucille': 17, 'Gorman': 17, '84-year-old': 12, 'Chicago': 17, 'housewife': 16, 'become': 35, 'amazingly': 25, 'immune': 12, 'stock-market': 16, 'jolts': 19, 'Drifting': 34, '12COLON06': 3, 'aPERIODm': 25, 'Thomas': 17, 'Allen': 17, 'Pittsburgh-based': 12, 'Advanced': 17, 'Investment': 17, 'Management': 17, 'agrees': 37, 'jump': 32, 'S&P': 17, '500': 3, 'futures': 19, 'himself': 23, '30-share': 12, 'index': 16, 'settled': 33, '42PERIOD0': 3, 'points': 19, '1678PERIOD5': 3, 'Senate': 17, 'expected': 35, 'modifications': 19, 'both': 2, 'White': 17, 'appear': 36, 'anxious': 12, 'speed': 32, 'final': 12, 'approval': 16, 'tonight': 16, 'deadline': 16, 'Jaguar': 17, '869': 3, 'pence': 16, '122': 3, 'hefty': 12, 'turnover': 16, '9PERIOD7': 3, 'trades': 19, 'effect': 16, 'close': 25, 'pPERIODmPERIOD': 25, 'shareholders': 19, 'effectively': 25, 'stayed': 33, 'put': 35, 'fired': 33, 'again': 25, 'somewhere': 25, 'gloom': 16, 'man': 16, 'screamed': 33, 'maid': 16, 'told': 33, 'us': 23, 'still': 25, 'bragged': 33, 'getting': 34, 'Newspapers': 19, 'generally': 25, 'ignored': 35, 'news': 16, 'releases': 19, 'Over': 11, 'rapidly-diminishing': 12, 'outline': 16, 'seat': 16, 'piled': 35, 'luggage': 16, 'Herry': 17, 'brushcut': 16, 'discernible': 12, 'near': 12, 'enviably': 25, 'spot': 16, 'hidden': 35, 'delicately-textured': 12, 'beautifully': 25, 'tinted': 35, 'must': 15, 'streaming': 34, 'cool': 12, 'oh': 31, 'wind': 16, 'sweetly': 25, 'perfumed': 35, 'sagebrush': 16, 'yucca': 16, 'flowers': 19, 'fumes': 19, 'key': 12, 'interest': 16, 'guide': 16, 'levels': 19, 'actual': 12, 'transactions': 19, 'Inside': 11, 'lobby': 16, 'standing': 34, 'around': 25, 'excitedly': 25, 'How': 41, 'buddy': 16, 'main': 12, 'sensation': 16, 'besides': 11, 'feeling': 16, 'puppet': 16, 'jerked': 35, 'invisible': 12, 'strings': 19, 'rap': 16, 'head': 16, 'Sam': 17, 'Bridgers': 17, 'neurologist': 16, 'studied': 35, 'brain': 16, 'stimulators': 19, 'Yale': 17, 'University': 17, 'Bond': 16, 'buy': 32, 'defense': 16, 'opened': 33, 'two-day': 12, 'meeting': 16, 'Portugal': 17, 'assess': 32, 'alliance': 16, 'nuclear-weapons': 12, 'needs': 19, 'reduced': 35, 'East-West': 17, 'tensions': 19, 'His': 24, 'natural': 12, 'environment': 16, 'dates': 37, 'youth': 16, 'conversation': 16, 'SQm': 36, 'maybe': 25, 'why': 41, 'fair': 12, 'ten': 3, 'older': 13, 'To': 30, 'severed': 35, 'connections': 19, 'bound': 33, 'existence': 16, 'Gasoline': 16, 'continued': 33, 'sell-off': 16, 'Monday': 17, 'Canadian': 17, 'taking': 34, 'court': 16, 'stop': 32, 'military': 12, 'flights': 19, 'Dutch': 17, 'Defense': 17, 'CBI': 17, 'reports': 19, 'refocused': 33, 'attention': 16, 'profitability': 16, 'helped': 33, 'rekindle': 32, 'underlying': 12, 'concerns': 19, 'prospects': 19, 'recession': 16, 'UPERIODKPERIOD': 17, 'separate': 12, 'speech': 16, 'prepared': 35, 'delivery': 16, 'Robin': 17, 'Leigh-Pemberton': 17, 'Bank': 17, 'England': 17, 'governor': 16, 'conceded': 33, 'demand': 16, 'pressures': 19, 'buoyant': 12, 'appreciated': 35, 'defendant': 16, 'faces': 37, 'possible': 12, 'prison': 16, '250COMMA000': 3, 'fines': 19, 'music': 16, 'hit': 32, 'respect': 16, 'died': 33, 'Interstate': 17, '880': 3, 'roadway': 16, 'collapsed': 33, 'simplicity': 16, 'misleading': 34, 'speaking': 34, 'archipelago': 16, 'Even': 25, 'islands': 19, 'German': 12, 'mandate': 16, 'World': 17, '1': 3, 'Europeans': 18, 'gave': 33, 'Eromonga': 18, 'wide': 12, 'berth': 16, 'Willings': 17, 'presumably': 25, 'better': 13, 'shot': 16, 'Blodgett': 17, 'ought': 15, 'Stocks': 19, 'Volume': 16, '170COMMA330COMMA000': 3, 'handsome': 12, 'despite': 11, 'thin': 12, 'scar': 16, 'slanted': 33, 'cheek': 16, 'Its': 24, 'pretense': 16, 'operate': 32, 'public': 12, 'sham': 16, 'several': 12, 'fully': 25, 'invested': 35, 'jumped': 35, 'premiums': 19, 'Last': 12, 'Budget': 17, 'Director': 17, 'Darman': 17, 'structured': 33, '16PERIOD1': 3, 'spending': 16, 'reduction': 16, 'impose': 32, 'bit': 16, 'discipline': 16, 'applying': 34, 'cuts': 19, 'each': 8, 'individual': 12, 'project': 16, 'activity': 16, 'budget': 16, 'children': 19, 'friends': 19, 'hurry': 16, 'warnings': 19, 'unwillingness': 16, 'pull': 32, 'trigger': 16, 'General': 17, 'Noriega': 17, 'custody': 16, 'attack': 16, 'pro-Noriega': 12, 'troops': 19, 'spokeswoman': 16, 'Sulka': 17, 'seven': 3, 'overseas': 25, 'Michael': 17, 'Cook': 17, 'chairman': 16, 'Deloitte': 17, 'Haskins': 17, '&': 2, 'Sells': 17, 'believes': 37, 'legal': 12, 'action': 16, 'firm': 16, 'merit': 16, 'study': 16, 'reveal': 32, 'increasing': 34, 'bias': 16, 'somebody': 16, 'stand': 32, 'audience': 16, 'opinion': 16, 'poll': 16, 'published': 35, 'October': 17, 'Parents': 17, 'Magazine': 17, 'third': 12, 'queried': 35, 'ghosts': 19, 'spirits': 19, 'themselves': 23, 'Victor': 17, 'Fishman': 17, 'Longwood': 17, 'FlaPERIOD': 17, 'fined': 35, '25COMMA000': 3, 'William': 17, 'Harold': 17, 'Floyd': 17, 'Houston': 17, '100COMMA000': 3, 'Anthony': 17, 'Bronx': 17, 'NPERIODYPERIOD': 17, '15COMMA000': 3, 'Amin': 17, 'Jalaalwalikraam': 17, 'Glenham': 17, '60COMMA000': 3, 'FPERIOD': 17, 'Knapp': 17, 'London': 17, '10COMMA000': 3, '30-day': 12, 'suspension': 16, 'Deborah': 17, 'Renee': 17, 'Martin': 17, 'Joseph': 17, 'Francis': 17, 'Muscolina': 17, 'JrPERIOD': 17, 'Palisades': 17, 'Park': 17, 'NPERIODJPERIOD': 17, 'CPERIOD': 17, 'Najarian': 17, 'Brooklyn': 17, 'MinnPERIOD': 17, 'Norwick': 17, 'Nesconset': 17, '30COMMA000': 3, 'something': 16, 'right': 25, 'Concerned': 35, 'mind': 16, 'dropped': 33, 'them': 23, 'instantly': 25, 'steady': 12, 'climb': 16, 'health': 16, 'Shortly': 25, 'completing': 34, '1PERIOD56': 3, 'acquisition': 16, 'West': 17, 'Point-Pepperell': 17, 'April': 17, 'Farley': 17, 'holding': 34, 'considering': 34, 'sale': 16, 'Cluett': 17, 'leading': 12, 'shirt': 16, 'biggest': 14, 'units': 19, 'Doris': 17, 'Hull': 17, 'suffering': 34, 'tuberculosis': 16, 'husband': 16, 'Otis': 17, 'GPERIOD': 17, 'Carroll': 17, 'sanipractor': 16, 'licensed': 35, 'drugless': 12, 'healer': 16, 'Spokane': 17, 'am': 36, 'OPEC': 17, 'repeatedly': 25, 'raised': 35, 'self-imposed': 12, 'ceiling': 16, 'legitimize': 32, 'unauthorized': 12, 'output': 16, 'late': 12, 'Jersey': 17, 'Turnpike': 17, 'Authority': 17, '7PERIOD20': 3, '2018': 3, \"'1\\\\\\\\/4'\": 3, '98': 3, 'Captain': 17, 'innocent': 12, 'central': 12, 'Judge': 17, 'Hastings': 17, 'conspired': 33, 'Washington': 17, 'lawyer': 16, '150COMMA000': 3, 'bribe': 16, 'defendants': 19, 'criminal': 12, 'judge': 16, 'leniency': 16, 'became': 33, 'apparent': 12, 'hearings': 19, 'regulation': 16, 'leveraged': 12, 'buy-outs': 19, 'sort': 16, 'RepPERIOD': 17, 'James': 17, 'Oberstar': 17, 'DPERIOD': 17, 'Aviation': 17, 'panel': 16, 'deliberations': 19, 'chance': 16, 'factors': 19, 'question': 16, 'wording': 16, 'introduce': 32, 'errors': 19, 'findings': 19, 'epistolatory': 12, 'correspondent': 16, 'dispatching': 34, 'exciting': 12, 'cables': 19, 'communiques': 19, 'dash': 16, 'wit': 16, 'glamor': 16, 'quoting': 34, 'books': 19, 'read': 35, 'imitating': 34, 'grand': 12, 'styles': 19, 'authors': 19, 'recommended': 35, 'teacher': 16, 'special': 12, 'after-school': 12, 'class': 16, 'enrolled': 35, 'considered': 35, 'protest': 16, 'Communist': 12, '40-year': 12, 'least': 14, '120COMMA000': 3, 'demonstrators': 19, 'marched': 35, 'southern': 12, 'city': 16, 'Leipzig': 17, 'demands': 19, 'democratic': 12, 'freedoms': 19, 'opposition': 16, 'activists': 19, 'peddler': 16, 'bawling': 34, 'wares': 19, 'convention': 16, 'Wheeling': 17, 'Which': 38, 'formed': 35, 'declaring': 34, 'Richmond': 17, 'east': 12, 'illegal': 12, 'traitors': 19, 'Was': 33, 'friendly': 12, 'terms': 19, 'members': 19, 'family': 16, 'change': 16, 'film-makers': 19, 'Daniel': 17, 'Grodnik': 17, 'Tim': 17, 'Matheson': 17, 'took': 33, 'control': 16, 'National': 17, 'Lampoon': 17, 'March': 17, 'doing': 34, 'financially': 25, 'taxpayers': 19, 'kinds': 19, 'jobs': 19, 'supporting': 34, 'families': 19, 'work': 16, 'seldom': 25, 'absent': 12, 'Let': 32, 'panoramic': 12, 'look': 16, 'course': 16, 'one-third': 16, 'viewers': 19, 'broadcast': 16, 'networks': 19, 'Unable': 12, 'persuade': 32, 'manager': 16, 'decision': 16, 'hearing': 16, 'No': 16, 'producer': 16, 'Broadway': 17, 'improving': 34, 'performance': 16, 'unfinished': 12, 'singing': 16, 'Gouldings': 18, 'sang': 33, 'old': 12, 'songs': 19, 'best': 27, 'means': 19, 'isolated': 35, 'cases': 19, 'One': 3, 'floor': 16, 'trader': 16, 'noted': 33, 'astonishment': 16, 'nobody': 16, 'Airways': 17, 'revive': 32, 'UAL': 17, 'buy-out': 16, 'quake': 16, 'knocked': 33, 'six': 3, 'hours': 19, 'teemed': 33, 'emotional': 12, 'first-hand': 12, 'exchange': 16, 'collateral': 16, 'bounced': 33, 'exuberantly': 25, 'sagging': 34, 'bed': 16, 'delighted': 12, 'Madame': 17, 'Lalaurie': 17, 'closing': 34, 'door': 16, 'showed': 33, 'slave': 16, 'designed': 35, 'slumber': 16, 'impact': 16, 'greater': 13, 'fiscal': 12, '1991': 3, 'forced': 33, 'confrontation': 16, 'Appropriations': 17, 'leadership': 16, 'Chairman': 17, 'Leon': 17, 'Panetta': 17, 'district': 16, 'center': 16, 'MERRILL': 17, 'LYNCH': 17, 'READY': 17, 'ASSETS': 18, 'TRUST': 17, '8PERIOD63': 3, 'corporation': 16, 'society': 16, 'year-earlier': 12, 'restated': 35, 'reflect': 32, 'accounting': 16, 'Having': 34, 'windows': 19, 'onto': 11, 'terrace': 16, 'lit': 33, 'fire': 16, 'translated': 33, 'motto': 16, 'Meredith': 17, 'grinned': 33, 'triplet': 16, 'together': 25, 'calfskin': 16, 'quiet': 12, 'impressive': 12, '140': 3, 'feet': 19, 'thirty-nine': 3, 'twenty-one': 3, 'industries': 19, 'pharmaceuticals': 19, 'acquisitions': 19, 'Chancellor': 17, 'Helmut': 17, 'Kohl': 17, 'travels': 37, 'Poland': 17, 'NovPERIOD': 17, '9': 3, 'promise': 16, 'marks': 19, '1PERIOD6': 3, 'credit': 16, 'guarantees': 19, 'industrial': 12, 'projects': 19, 'required': 35, 'refer': 32, 'exclusively': 25, 'remain': 32, 'organizations': 19, 'call': 32, '`': 6, 'controlled': 12, 'chaos': 16, '47-year-old': 12, 'Jacobson': 17, 'grandson': 16, 'founder': 16, 'necessarily': 25, 'details': 19, 'referred': 35, 'mental': 12, 'spiritual': 12, 'confinement': 16, 'Golden': 17, 'Financial': 17, 'riding': 34, 'turbulence': 16, 'troubled': 35, 'thrift': 16, 'posted': 33, 'increase': 16, '41PERIOD8': 3, 'millon': 16, '66': 3, 'Public': 12, 'favors': 37, 'development': 16, 'beneficial': 12, 'drugs': 19, 'risks': 19, 'ones': 19, 'accompany': 32, 'introduction': 16, 'save': 32, 'lives': 19, 'pain': 16, 'unanimous': 12, 'horse': 16, 'twisted': 33, 'side': 16, 'frenzy': 16}\n"
     ]
    }
   ],
   "source": [
    "word_class_dict = {}\n",
    "for i in range(len(center)):\n",
    "    if center[i] not in word_class_dict:\n",
    "        word_class_dict[center[i]] = class_code[i]\n",
    "print(word_class_dict)    "
   ]
  },
  {
   "cell_type": "code",
   "execution_count": 35,
   "metadata": {
    "scrolled": true
   },
   "outputs": [],
   "source": [
    "new_df = pd.read_csv('pos-eng-5000.data.csv')\n",
    "everything = df[['a2', 'a3', 'a4', 'a5', 'a6', 'a7']].to_numpy()\n",
    "grand_list = []\n",
    "for row in everything: \n",
    "    local_list = []\n",
    "    for i in row:\n",
    "        if i in word_class_dict:\n",
    "            local_list.append(word_class_dict.get(i))\n",
    "        else:\n",
    "            local_list.append(lpo_class)\n",
    "    grand_list.append(local_list)\n",
    "\n",
    "\n",
    "X = scipy.sparse.csr_matrix(grand_list)\n",
    "Y = scipy.sparse.csr_matrix(class_code)"
   ]
  },
  {
   "cell_type": "code",
   "execution_count": 36,
   "metadata": {},
   "outputs": [],
   "source": [
    "# Define a function to take as input training and testing vectors and labels\n",
    "# Allow this to be extensible to let multiple classifiers be used here\n",
    "def buildClassifiers(clf, X_train, X_test, y_train, y_test):\n",
    "\n",
    "    clf.fit(X_train.todense(), y_train)\n",
    "    y_pred = clf.predict(X_test.todense())\n",
    "\n",
    "    f1 = f1_score(y_test, y_pred, average=\"macro\")\n",
    "    precision = precision_score(y_test, y_pred, average=\"macro\")\n",
    "    recall = recall_score(y_test, y_pred, average=\"macro\")\n",
    "    accuracy = accuracy_score(y_test, y_pred)\n",
    "    return f1, precision, recall, accuracy\n"
   ]
  },
  {
   "cell_type": "code",
   "execution_count": 37,
   "metadata": {},
   "outputs": [
    {
     "name": "stdout",
     "output_type": "stream",
     "text": [
      "Now classifying Naive_Bayes\n"
     ]
    },
    {
     "name": "stderr",
     "output_type": "stream",
     "text": [
      "/Users/zhanghongshuo/anaconda3/lib/python3.6/site-packages/sklearn/metrics/_classification.py:1272: UndefinedMetricWarning: Precision is ill-defined and being set to 0.0 in labels with no predicted samples. Use `zero_division` parameter to control this behavior.\n",
      "  _warn_prf(average, modifier, msg_start, len(result))\n",
      "/Users/zhanghongshuo/anaconda3/lib/python3.6/site-packages/sklearn/metrics/_classification.py:1272: UndefinedMetricWarning: Precision is ill-defined and being set to 0.0 in labels with no predicted samples. Use `zero_division` parameter to control this behavior.\n",
      "  _warn_prf(average, modifier, msg_start, len(result))\n",
      "/Users/zhanghongshuo/anaconda3/lib/python3.6/site-packages/sklearn/metrics/_classification.py:1272: UndefinedMetricWarning: Precision is ill-defined and being set to 0.0 in labels with no predicted samples. Use `zero_division` parameter to control this behavior.\n",
      "  _warn_prf(average, modifier, msg_start, len(result))\n",
      "/Users/zhanghongshuo/anaconda3/lib/python3.6/site-packages/sklearn/metrics/_classification.py:1272: UndefinedMetricWarning: Precision is ill-defined and being set to 0.0 in labels with no predicted samples. Use `zero_division` parameter to control this behavior.\n",
      "  _warn_prf(average, modifier, msg_start, len(result))\n",
      "/Users/zhanghongshuo/anaconda3/lib/python3.6/site-packages/sklearn/metrics/_classification.py:1272: UndefinedMetricWarning: Recall is ill-defined and being set to 0.0 in labels with no true samples. Use `zero_division` parameter to control this behavior.\n",
      "  _warn_prf(average, modifier, msg_start, len(result))\n",
      "/Users/zhanghongshuo/anaconda3/lib/python3.6/site-packages/sklearn/metrics/_classification.py:1272: UndefinedMetricWarning: Precision is ill-defined and being set to 0.0 in labels with no predicted samples. Use `zero_division` parameter to control this behavior.\n",
      "  _warn_prf(average, modifier, msg_start, len(result))\n",
      "/Users/zhanghongshuo/anaconda3/lib/python3.6/site-packages/sklearn/metrics/_classification.py:1272: UndefinedMetricWarning: Precision is ill-defined and being set to 0.0 in labels with no predicted samples. Use `zero_division` parameter to control this behavior.\n",
      "  _warn_prf(average, modifier, msg_start, len(result))\n",
      "/Users/zhanghongshuo/anaconda3/lib/python3.6/site-packages/sklearn/metrics/_classification.py:1272: UndefinedMetricWarning: Recall is ill-defined and being set to 0.0 in labels with no true samples. Use `zero_division` parameter to control this behavior.\n",
      "  _warn_prf(average, modifier, msg_start, len(result))\n"
     ]
    },
    {
     "name": "stdout",
     "output_type": "stream",
     "text": [
      "\tAverage Macro F1 for Naive_Bayes:\t\t 0.6699465521631961\n",
      "\tAverage Macro Precision for Naive_Bayes:\t 0.6932628762612766\n",
      "\tAverage Macro Recall for Naive_Bayes:\t\t 0.6850814494009813\n",
      "\tAverage Macro Accuracy for Naive_Bayes:\t\t 0.8055999999999999\n",
      "Now classifying Decision_Tree\n"
     ]
    },
    {
     "name": "stderr",
     "output_type": "stream",
     "text": [
      "/Users/zhanghongshuo/anaconda3/lib/python3.6/site-packages/sklearn/metrics/_classification.py:1272: UndefinedMetricWarning: Precision is ill-defined and being set to 0.0 in labels with no predicted samples. Use `zero_division` parameter to control this behavior.\n",
      "  _warn_prf(average, modifier, msg_start, len(result))\n",
      "/Users/zhanghongshuo/anaconda3/lib/python3.6/site-packages/sklearn/metrics/_classification.py:1272: UndefinedMetricWarning: Recall is ill-defined and being set to 0.0 in labels with no true samples. Use `zero_division` parameter to control this behavior.\n",
      "  _warn_prf(average, modifier, msg_start, len(result))\n",
      "/Users/zhanghongshuo/anaconda3/lib/python3.6/site-packages/sklearn/metrics/_classification.py:1272: UndefinedMetricWarning: Precision is ill-defined and being set to 0.0 in labels with no predicted samples. Use `zero_division` parameter to control this behavior.\n",
      "  _warn_prf(average, modifier, msg_start, len(result))\n"
     ]
    },
    {
     "name": "stdout",
     "output_type": "stream",
     "text": [
      "\tAverage Macro F1 for Decision_Tree:\t\t 0.8351008976248766\n",
      "\tAverage Macro Precision for Decision_Tree:\t 0.841596774196591\n",
      "\tAverage Macro Recall for Decision_Tree:\t\t 0.8517182168733861\n",
      "\tAverage Macro Accuracy for Decision_Tree:\t\t 0.95\n"
     ]
    },
    {
     "name": "stderr",
     "output_type": "stream",
     "text": [
      "/Users/zhanghongshuo/anaconda3/lib/python3.6/site-packages/sklearn/metrics/_classification.py:1272: UndefinedMetricWarning: Precision is ill-defined and being set to 0.0 in labels with no predicted samples. Use `zero_division` parameter to control this behavior.\n",
      "  _warn_prf(average, modifier, msg_start, len(result))\n",
      "/Users/zhanghongshuo/anaconda3/lib/python3.6/site-packages/sklearn/metrics/_classification.py:1272: UndefinedMetricWarning: Recall is ill-defined and being set to 0.0 in labels with no true samples. Use `zero_division` parameter to control this behavior.\n",
      "  _warn_prf(average, modifier, msg_start, len(result))\n",
      "/Users/zhanghongshuo/anaconda3/lib/python3.6/site-packages/sklearn/metrics/_classification.py:1272: UndefinedMetricWarning: Precision is ill-defined and being set to 0.0 in labels with no predicted samples. Use `zero_division` parameter to control this behavior.\n",
      "  _warn_prf(average, modifier, msg_start, len(result))\n",
      "/Users/zhanghongshuo/anaconda3/lib/python3.6/site-packages/sklearn/metrics/_classification.py:1272: UndefinedMetricWarning: Recall is ill-defined and being set to 0.0 in labels with no true samples. Use `zero_division` parameter to control this behavior.\n",
      "  _warn_prf(average, modifier, msg_start, len(result))\n"
     ]
    }
   ],
   "source": [
    "names = ['Naive_Bayes', 'Decision_Tree']\n",
    "classifiers =   [GaussianNB(), \n",
    "                DecisionTreeClassifier(random_state=0)]\n",
    "for name, clf in zip(names, classifiers):\n",
    "\n",
    "    print('Now classifying', name)\n",
    "\n",
    "    # Fold the data 5 times\n",
    "    kf = KFold(n_splits = 5)\n",
    "    foldCounter = 0\n",
    "    aList, bList, cList, dList= list(), list(), list(), list()\n",
    "    \n",
    "    for train_index, test_index in kf.split(X):\n",
    "        X_train, X_test = X[train_index], X[test_index]\n",
    "        y_train = []\n",
    "        y_test = []\n",
    "        for i in train_index:\n",
    "            y_train.append(Y[0, i])\n",
    "        for i in test_index:\n",
    "            y_test.append(Y[0, i])\n",
    "        f1, precision, recall, accuracy= buildClassifiers(clf, X_train, X_test, y_train, y_test)\n",
    "        aList.append(f1)\n",
    "        bList.append(precision)\n",
    "        cList.append(recall)\n",
    "        dList.append(accuracy)\n",
    "\n",
    "    print(\"\\tAverage Macro F1 for {}:\\t\\t\".format(name), np.mean(aList))\n",
    "    print(\"\\tAverage Macro Precision for {}:\\t\".format(name), np.mean(bList))\n",
    "    print(\"\\tAverage Macro Recall for {}:\\t\\t\".format(name), np.mean(cList))\n",
    "    print(\"\\tAverage Macro Accuracy for {}:\\t\\t\".format(name), np.mean(dList))\n"
   ]
  },
  {
   "cell_type": "code",
   "execution_count": null,
   "metadata": {},
   "outputs": [],
   "source": []
  },
  {
   "cell_type": "code",
   "execution_count": null,
   "metadata": {},
   "outputs": [],
   "source": []
  }
 ],
 "metadata": {
  "kernelspec": {
   "display_name": "Python 3",
   "language": "python",
   "name": "python3"
  },
  "language_info": {
   "codemirror_mode": {
    "name": "ipython",
    "version": 3
   },
   "file_extension": ".py",
   "mimetype": "text/x-python",
   "name": "python",
   "nbconvert_exporter": "python",
   "pygments_lexer": "ipython3",
   "version": "3.6.8"
  }
 },
 "nbformat": 4,
 "nbformat_minor": 2
}
